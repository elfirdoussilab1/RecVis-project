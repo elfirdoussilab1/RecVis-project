{
 "cells": [
  {
   "cell_type": "markdown",
   "metadata": {},
   "source": [
    "# Testing notebook"
   ]
  },
  {
   "cell_type": "code",
   "execution_count": 1,
   "metadata": {},
   "outputs": [],
   "source": [
    "from src.data.embs import ImageDataset\n"
   ]
  },
  {
   "cell_type": "code",
   "execution_count": 2,
   "metadata": {},
   "outputs": [],
   "source": [
    "im_data = ImageDataset(image_dir='./datasets/CIRR/images/dev')\n"
   ]
  },
  {
   "cell_type": "code",
   "execution_count": 3,
   "metadata": {},
   "outputs": [
    {
     "name": "stdout",
     "output_type": "stream",
     "text": [
      "datasets/CIRR/images/dev/dev-1009-0-img0.png\n"
     ]
    }
   ],
   "source": [
    "l = list(im_data.image_dir.glob(\"*.jpg\")) + list(\n",
    "            im_data.image_dir.glob(\"*.png\")\n",
    "        )\n",
    "print(l[0])"
   ]
  },
  {
   "cell_type": "code",
   "execution_count": 4,
   "metadata": {},
   "outputs": [
    {
     "data": {
      "text/plain": [
       "'dev-1009-0-img0'"
      ]
     },
     "execution_count": 4,
     "metadata": {},
     "output_type": "execute_result"
    }
   ],
   "source": [
    "l[0].stem"
   ]
  },
  {
   "cell_type": "code",
   "execution_count": 12,
   "metadata": {},
   "outputs": [],
   "source": [
    "from pathlib import Path\n",
    "image_dir = Path(\"datasets/CIRR/images/dev\")"
   ]
  },
  {
   "cell_type": "code",
   "execution_count": 13,
   "metadata": {},
   "outputs": [
    {
     "name": "stdout",
     "output_type": "stream",
     "text": [
      "datasets/CIRR/images/blip-embs-base\n"
     ]
    }
   ],
   "source": [
    "subdirectories = [subdir for subdir in image_dir.iterdir() if subdir.is_dir()]\n",
    "\n",
    "if len(subdirectories) == 0:\n",
    "    save_dir = image_dir.parent / f\"blip-embs-base\"\n",
    "    #save_dir.mkdir(exist_ok=True)\n",
    "    print(save_dir)\n",
    "    \n",
    "else:\n",
    "    for subdir in subdirectories:\n",
    "        image_dir = subdir\n",
    "        save_dir = (\n",
    "            subdir.parent.parent / f\"blip-embs-base\" / subdir.name\n",
    "        )\n",
    "        #save_dir.mkdir(exist_ok=True, parents=True)\n",
    "        print(save_dir)"
   ]
  },
  {
   "cell_type": "code",
   "execution_count": null,
   "metadata": {},
   "outputs": [],
   "source": []
  }
 ],
 "metadata": {
  "kernelspec": {
   "display_name": ".venv",
   "language": "python",
   "name": "python3"
  },
  "language_info": {
   "codemirror_mode": {
    "name": "ipython",
    "version": 3
   },
   "file_extension": ".py",
   "mimetype": "text/x-python",
   "name": "python",
   "nbconvert_exporter": "python",
   "pygments_lexer": "ipython3",
   "version": "3.10.11"
  }
 },
 "nbformat": 4,
 "nbformat_minor": 2
}
