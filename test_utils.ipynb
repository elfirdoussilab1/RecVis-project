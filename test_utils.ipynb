{
 "cells": [
  {
   "cell_type": "markdown",
   "metadata": {},
   "source": [
    "# Testing notebook"
   ]
  },
  {
   "cell_type": "code",
   "execution_count": 1,
   "metadata": {},
   "outputs": [],
   "source": [
    "from src.data.embs import ImageDataset\n"
   ]
  },
  {
   "cell_type": "code",
   "execution_count": 2,
   "metadata": {},
   "outputs": [],
   "source": [
    "im_data = ImageDataset(image_dir='./datasets/CIRR/images/dev')\n"
   ]
  },
  {
   "cell_type": "code",
   "execution_count": 3,
   "metadata": {},
   "outputs": [
    {
     "name": "stdout",
     "output_type": "stream",
     "text": [
      "datasets/CIRR/images/dev/dev-1009-0-img0.png\n"
     ]
    }
   ],
   "source": [
    "l = list(im_data.image_dir.glob(\"*.jpg\")) + list(\n",
    "            im_data.image_dir.glob(\"*.png\")\n",
    "        )\n",
    "print(l[0])"
   ]
  },
  {
   "cell_type": "code",
   "execution_count": 4,
   "metadata": {},
   "outputs": [
    {
     "data": {
      "text/plain": [
       "'dev-1009-0-img0'"
      ]
     },
     "execution_count": 4,
     "metadata": {},
     "output_type": "execute_result"
    }
   ],
   "source": [
    "l[0].stem"
   ]
  },
  {
   "cell_type": "code",
   "execution_count": 2,
   "metadata": {},
   "outputs": [],
   "source": [
    "from pathlib import Path\n",
    "image_dir = Path(\"datasets/CIRR/images/dev\")"
   ]
  },
  {
   "cell_type": "code",
   "execution_count": 13,
   "metadata": {},
   "outputs": [
    {
     "name": "stdout",
     "output_type": "stream",
     "text": [
      "datasets/CIRR/images/blip-embs-base\n"
     ]
    }
   ],
   "source": [
    "subdirectories = [subdir for subdir in image_dir.iterdir() if subdir.is_dir()]\n",
    "\n",
    "if len(subdirectories) == 0:\n",
    "    save_dir = image_dir.parent / f\"blip-embs-base\"\n",
    "    #save_dir.mkdir(exist_ok=True)\n",
    "    print(save_dir)\n",
    "    \n",
    "else:\n",
    "    for subdir in subdirectories:\n",
    "        image_dir = subdir\n",
    "        save_dir = (\n",
    "            subdir.parent.parent / f\"blip-embs-base\" / subdir.name\n",
    "        )\n",
    "        #save_dir.mkdir(exist_ok=True, parents=True)\n",
    "        print(save_dir)"
   ]
  },
  {
   "cell_type": "code",
   "execution_count": 4,
   "metadata": {},
   "outputs": [],
   "source": [
    "import json\n",
    "annotation = json.load(open(Path(\"annotation/cirr/cap.rc2.train.json\"), \"r\"))"
   ]
  },
  {
   "cell_type": "code",
   "execution_count": 6,
   "metadata": {},
   "outputs": [
    {
     "data": {
      "text/plain": [
       "28225"
      ]
     },
     "execution_count": 6,
     "metadata": {},
     "output_type": "execute_result"
    }
   ],
   "source": [
    "len(annotation)"
   ]
  },
  {
   "cell_type": "code",
   "execution_count": 14,
   "metadata": {},
   "outputs": [
    {
     "data": {
      "text/plain": [
       "'train-11041-2-img0'"
      ]
     },
     "execution_count": 14,
     "metadata": {},
     "output_type": "execute_result"
    }
   ],
   "source": [
    "annotation[1]['reference']"
   ]
  },
  {
   "cell_type": "code",
   "execution_count": 17,
   "metadata": {},
   "outputs": [],
   "source": [
    "from src.data.cirr import *\n",
    "test_img_dir = Path(\"datasets/CIRR/images/test1\")\n",
    "test_ann_dir = Path(\"annotation/cirr/cap.rc2.test1.json\")\n"
   ]
  },
  {
   "cell_type": "code",
   "execution_count": 3,
   "metadata": {},
   "outputs": [],
   "source": [
    "import csv\n",
    "\n",
    "# Create lists (or NumPy arrays)\n",
    "row1 = [\"epoch1\", 1, 2, 3, 4, 5]\n",
    "row2 = [6, 7, 8, 9, 10]\n",
    "\n",
    "# Write the first row to the CSV file\n",
    "with open(\"array.csv\", \"w\", newline=\"\") as file:\n",
    "    writer = csv.writer(file)\n",
    "    writer.writerow(row1)  # Write a single row\n",
    "\n",
    "# Append the second row to the CSV file\n",
    "with open(\"array.csv\", \"a\", newline=\"\") as file:\n",
    "    writer = csv.writer(file)\n",
    "    writer.writerow(row2)  # Append a single row\n"
   ]
  },
  {
   "cell_type": "code",
   "execution_count": 5,
   "metadata": {},
   "outputs": [
    {
     "data": {
      "text/plain": [
       "torch.Size([32, 4, 3])"
      ]
     },
     "execution_count": 5,
     "metadata": {},
     "output_type": "execute_result"
    }
   ],
   "source": [
    "import torch\n",
    "t = torch.ones((32, 4, 3))\n",
    "t.shape"
   ]
  },
  {
   "cell_type": "code",
   "execution_count": 7,
   "metadata": {},
   "outputs": [
    {
     "data": {
      "text/plain": [
       "torch.Size([32, 3])"
      ]
     },
     "execution_count": 7,
     "metadata": {},
     "output_type": "execute_result"
    }
   ],
   "source": [
    "w = torch.nn.Linear()"
   ]
  },
  {
   "cell_type": "code",
   "execution_count": 10,
   "metadata": {},
   "outputs": [
    {
     "name": "stdout",
     "output_type": "stream",
     "text": [
      "Are the results close?  True\n",
      "Result from einsum:  torch.Size([2, 256])\n",
      "Result from explicit computation:  torch.Size([2, 256])\n"
     ]
    }
   ],
   "source": [
    "import torch\n",
    "\n",
    "# Define W and matrices v1, v2, v3\n",
    "W = torch.tensor([0.5, 1.0, 1.5])  # Shape: (3,)\n",
    "B, D = 2, 256  # Batch size and feature dimension\n",
    "v1 = torch.randn(B, D)  # Shape: (B, 256)\n",
    "v2 = torch.randn(B, D)  # Shape: (B, 256)\n",
    "v3 = torch.randn(B, D)  # Shape: (B, 256)\n",
    "\n",
    "# Compute the result using the formula\n",
    "v_stack = torch.stack([v1, v2, v3], dim=0)  # Shape: (3, B, 256)\n",
    "result = torch.einsum('i,ibj->bj', W, v_stack)  # Shape: (B, 256)\n",
    "\n",
    "# Verify the result with the explicit computation\n",
    "expected_result = W[0] * v1 + W[1] * v2 + W[2] * v3\n",
    "\n",
    "# Check if they are close\n",
    "print(\"Are the results close? \", torch.allclose(result, expected_result))\n",
    "\n",
    "# Optional: print the results for debugging\n",
    "print(\"Result from einsum: \", result.shape)\n",
    "print(\"Result from explicit computation: \", expected_result.shape)\n"
   ]
  },
  {
   "cell_type": "code",
   "execution_count": null,
   "metadata": {},
   "outputs": [],
   "source": []
  }
 ],
 "metadata": {
  "kernelspec": {
   "display_name": ".venv",
   "language": "python",
   "name": "python3"
  },
  "language_info": {
   "codemirror_mode": {
    "name": "ipython",
    "version": 3
   },
   "file_extension": ".py",
   "mimetype": "text/x-python",
   "name": "python",
   "nbconvert_exporter": "python",
   "pygments_lexer": "ipython3",
   "version": "3.10.11"
  }
 },
 "nbformat": 4,
 "nbformat_minor": 2
}
